{
 "cells": [
  {
   "cell_type": "code",
   "execution_count": 6,
   "id": "cf0fe2e5-7781-4692-9b29-8508ee8ce3ee",
   "metadata": {},
   "outputs": [
    {
     "name": "stdout",
     "output_type": "stream",
     "text": [
      "\n",
      "image 1/1 G:\\yolo11Project\\Testimage\\images (2).jpg: 512x640 1 License_Plate, 2781.0ms\n",
      "Speed: 11.9ms preprocess, 2781.0ms inference, 1.3ms postprocess per image at shape (1, 3, 512, 640)\n",
      "Results saved to \u001b[1mruns\\detect\\predict3\u001b[0m\n"
     ]
    }
   ],
   "source": [
    "from ultralytics import YOLO\n",
    "model = YOLO(r'G:\\yolo11Project\\detect\\train\\weights\\best.pt')\n",
    "results = model(r'G:\\yolo11Project\\Testimage\\images (2).jpg', save=True)\n",
    "results[0].show()"
   ]
  },
  {
   "cell_type": "code",
   "execution_count": 7,
   "id": "5cc50641-31c3-40d1-8d8b-153e67178d87",
   "metadata": {},
   "outputs": [
    {
     "name": "stderr",
     "output_type": "stream",
     "text": [
      "Neither CUDA nor MPS are available - defaulting to CPU. Note: This module is much faster with a GPU.\n"
     ]
    }
   ],
   "source": [
    "import easyocr\n",
    "reader = easyocr.Reader(['en'])  # Initialize with the required language"
   ]
  },
  {
   "cell_type": "code",
   "execution_count": 22,
   "id": "be9bead2-11a9-488f-8501-4c3c1a227546",
   "metadata": {},
   "outputs": [
    {
     "name": "stderr",
     "output_type": "stream",
     "text": [
      "Neither CUDA nor MPS are available - defaulting to CPU. Note: This module is much faster with a GPU.\n"
     ]
    },
    {
     "name": "stdout",
     "output_type": "stream",
     "text": [
      "\n",
      "0: 512x640 1 License_Plate, 2602.3ms\n",
      "Speed: 18.6ms preprocess, 2602.3ms inference, 0.0ms postprocess per image at shape (1, 3, 512, 640)\n",
      "Detected Text: KL 65H4383\n"
     ]
    }
   ],
   "source": [
    "import cv2\n",
    "from ultralytics import YOLO\n",
    "import easyocr\n",
    "\n",
    "# Function to crop detected number plate region\n",
    "def crop_number_plate(image, bbox):\n",
    "    x1, y1, x2, y2 = map(int, bbox[:4])  # Convert coordinates to integers\n",
    "    cropped = image[y1:y2, x1:x2]  # Crop using bounding box\n",
    "    return cropped\n",
    "\n",
    "# Function to extract text using EasyOCR\n",
    "def extract_text_with_easyocr(cropped_image, reader):\n",
    "    results = reader.readtext(cropped_image)\n",
    "    text = \" \".join([result[1] for result in results])  # Extract detected text\n",
    "    return text.strip()\n",
    "\n",
    "# Function to process image with YOLO and OCR\n",
    "def process_image_with_ocr(image_path, model_path):\n",
    "    # Load YOLO model\n",
    "    model = YOLO(model_path)\n",
    "    \n",
    "    # Initialize EasyOCR Reader\n",
    "    reader = easyocr.Reader(['en'])\n",
    "    \n",
    "    # Read the image\n",
    "    image = cv2.imread(image_path)\n",
    "    \n",
    "    # Run inference\n",
    "    results = model(image)\n",
    "    \n",
    "    for r in results:\n",
    "        for box in r.boxes:\n",
    "            x1, y1, x2, y2 = map(int, box.xyxy[0].tolist())\n",
    "            confidence = box.conf[0].item()\n",
    "            \n",
    "            # Draw bounding box on the original image\n",
    "            cv2.rectangle(image, (x1, y1), (x2, y2), (0, 255, 0), 2)\n",
    "            \n",
    "            # Crop the detected number plate\n",
    "            cropped_plate = crop_number_plate(image, (x1, y1, x2, y2))\n",
    "            \n",
    "            # Extract text using EasyOCR\n",
    "            text = extract_text_with_easyocr(cropped_plate, reader)\n",
    "            print(f'Detected Text: {text}')\n",
    "            \n",
    "            # Overlay detected text on the image\n",
    "            cv2.putText(image, text, (x1, y1 - 10), cv2.FONT_HERSHEY_SIMPLEX, 0.6, (0, 255, 0), 2)\n",
    "            \n",
    "            # Show cropped plate (optional)\n",
    "            cv2.imshow(\"Cropped Number Plate\", cropped_plate)\n",
    "            cv2.waitKey(0)\n",
    "    \n",
    "    # Display the image with bounding boxes and text\n",
    "    cv2.imshow(\"Detected Number Plates\", image)\n",
    "    cv2.waitKey(0)\n",
    "    cv2.destroyAllWindows()\n",
    "\n",
    "# Example Usage\n",
    "image_path = r'G:\\yolo11Project\\Testimage\\images (2).jpg'\n",
    "model_path = r'G:\\yolo11Project\\detect\\train\\weights\\best.pt'\n",
    "\n",
    "process_image_with_ocr(image_path, model_path)\n"
   ]
  },
  {
   "cell_type": "code",
   "execution_count": null,
   "id": "af438c40-c7e0-49cb-bc4b-6edbfd1e1e1e",
   "metadata": {},
   "outputs": [],
   "source": []
  },
  {
   "cell_type": "code",
   "execution_count": null,
   "id": "8aab3f21-c6e6-4b1f-8e0e-6123c21c162b",
   "metadata": {},
   "outputs": [],
   "source": []
  },
  {
   "cell_type": "code",
   "execution_count": null,
   "id": "dcb58b85-88cd-444c-b1b7-a1abb7f3c161",
   "metadata": {},
   "outputs": [],
   "source": []
  },
  {
   "cell_type": "code",
   "execution_count": null,
   "id": "66098205-49b1-4861-a0b8-42351033b535",
   "metadata": {},
   "outputs": [],
   "source": []
  },
  {
   "cell_type": "code",
   "execution_count": null,
   "id": "0d6f9a01-ef99-46e3-9f35-b8c770428e25",
   "metadata": {},
   "outputs": [],
   "source": []
  },
  {
   "cell_type": "code",
   "execution_count": null,
   "id": "c64e3980-f3fe-4c21-91f7-e0d749354a07",
   "metadata": {},
   "outputs": [],
   "source": []
  },
  {
   "cell_type": "code",
   "execution_count": null,
   "id": "4e2565a7-375b-470e-8e84-9567c97e9247",
   "metadata": {},
   "outputs": [],
   "source": []
  },
  {
   "cell_type": "code",
   "execution_count": null,
   "id": "d2f8b569-c8d6-4692-a2c0-35594ca424b6",
   "metadata": {},
   "outputs": [],
   "source": []
  },
  {
   "cell_type": "code",
   "execution_count": null,
   "id": "cddf844c-36a0-41e3-a268-36fa7ce0a48a",
   "metadata": {},
   "outputs": [],
   "source": []
  },
  {
   "cell_type": "code",
   "execution_count": null,
   "id": "35f75d0e-8d9a-4b74-8b28-c3c422a173f1",
   "metadata": {},
   "outputs": [
    {
     "name": "stderr",
     "output_type": "stream",
     "text": [
      "Neither CUDA nor MPS are available - defaulting to CPU. Note: This module is much faster with a GPU.\n"
     ]
    }
   ],
   "source": [
    "import cv2\n",
    "from ultralytics import YOLO\n",
    "import easyocr\n",
    "\n",
    "# Function to crop detected number plate region\n",
    "def crop_number_plate(image, bbox):\n",
    "    x1, y1, x2, y2 = map(int, bbox[:4])  # Convert coordinates to integers\n",
    "    cropped = image[y1:y2, x1:x2]  # Crop using bounding box\n",
    "    return cropped\n",
    "\n",
    "# Function to extract text using EasyOCR\n",
    "def extract_text_with_easyocr(cropped_image, reader):\n",
    "    results = reader.readtext(cropped_image)\n",
    "    text = \" \".join([result[1] for result in results])  # Extract detected text\n",
    "    return text.strip()\n",
    "\n",
    "# Function to process image with YOLO and OCR\n",
    "def process_image_with_ocr(image_path, model_path):\n",
    "    # Load YOLO model\n",
    "    model = YOLO(model_path)\n",
    "    \n",
    "    # Initialize EasyOCR Reader\n",
    "    reader = easyocr.Reader(['en'])\n",
    "    \n",
    "    # Read the image\n",
    "    image = cv2.imread(image_path)\n",
    "    \n",
    "    # Run inference\n",
    "    results = model(image)\n",
    "    \n",
    "    for r in results:\n",
    "        for box in r.boxes:\n",
    "            x1, y1, x2, y2 = map(int, box.xyxy[0].tolist())\n",
    "            confidence = box.conf[0].item()\n",
    "            \n",
    "            # Draw bounding box on the original image\n",
    "            cv2.rectangle(image, (x1, y1), (x2, y2), (0, 255, 0), 2)\n",
    "            \n",
    "            # Crop the detected number plate\n",
    "            cropped_plate = crop_number_plate(image, (x1, y1, x2, y2))\n",
    "            \n",
    "            # Extract text using EasyOCR\n",
    "            text = extract_text_with_easyocr(cropped_plate, reader)\n",
    "            print(f'Detected Text: {text}')\n",
    "            \n",
    "            # Overlay detected text on the image\n",
    "            cv2.putText(image, text, (x1, y1 - 10), cv2.FONT_HERSHEY_SIMPLEX, 0.6, (0, 255, 0), 2)\n",
    "            \n",
    "            # Show cropped plate (optional)\n",
    "            cv2.imshow(\"Cropped Number Plate\", cropped_plate)\n",
    "            cv2.waitKey(0)\n",
    "    \n",
    "    # Display the image with bounding boxes and text\n",
    "    cv2.imshow(\"Detected Number Plates\", image)\n",
    "    cv2.waitKey(0)\n",
    "    cv2.destroyAllWindows()\n",
    "\n",
    "# Example Usage\n",
    "image_path = r'G:\\yolo11Project\\Testimage\\images (2).jpg'\n",
    "model_path = r'G:\\yolo11Project\\detect\\train\\weights\\best.pt'\n",
    "\n",
    "process_image_with_ocr(image_path, model_path)\n"
   ]
  },
  {
   "cell_type": "code",
   "execution_count": null,
   "id": "50c8d0a6-15bf-4be6-a952-c646a75e0a9f",
   "metadata": {},
   "outputs": [],
   "source": []
  },
  {
   "cell_type": "code",
   "execution_count": null,
   "id": "a6e0bf96-3f70-46e6-b8b9-bdde932699d7",
   "metadata": {},
   "outputs": [],
   "source": []
  },
  {
   "cell_type": "code",
   "execution_count": null,
   "id": "65c091f8-1ef4-438a-893f-33374be3acad",
   "metadata": {},
   "outputs": [],
   "source": []
  },
  {
   "cell_type": "code",
   "execution_count": null,
   "id": "f207d2db-eb12-4e26-9632-5b8ed6bd6ffc",
   "metadata": {},
   "outputs": [],
   "source": []
  },
  {
   "cell_type": "code",
   "execution_count": null,
   "id": "e1f062a1-ac7b-472d-b05d-2ccdbd21bb3e",
   "metadata": {},
   "outputs": [],
   "source": []
  },
  {
   "cell_type": "code",
   "execution_count": null,
   "id": "df409a09-da4a-4e70-a8be-280322f45adf",
   "metadata": {},
   "outputs": [],
   "source": []
  }
 ],
 "metadata": {
  "kernelspec": {
   "display_name": "Python 3 (ipykernel)",
   "language": "python",
   "name": "python3"
  },
  "language_info": {
   "codemirror_mode": {
    "name": "ipython",
    "version": 3
   },
   "file_extension": ".py",
   "mimetype": "text/x-python",
   "name": "python",
   "nbconvert_exporter": "python",
   "pygments_lexer": "ipython3",
   "version": "3.11.5"
  }
 },
 "nbformat": 4,
 "nbformat_minor": 5
}
